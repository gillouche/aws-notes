{
 "cells": [
  {
   "cell_type": "markdown",
   "metadata": {},
   "source": [
    "# Supervised learning - Python - Univariate linear regression"
   ]
  },
  {
   "cell_type": "markdown",
   "metadata": {},
   "source": [
    "## Simple linear regression or univariate (one variable) linear regression"
   ]
  },
  {
   "cell_type": "code",
   "execution_count": 1,
   "metadata": {},
   "outputs": [
    {
     "data": {
      "text/latex": [
       "$\n",
       "y = b_0 + b_1 * x_1 \\\\\n",
       "y \\text{ is the dependent variable} \\\\\n",
       "b_0 \\text{ is the y-intercept} \\\\\n",
       "b_1 \\text{ is the coefficient for the independent variable, the slope} \\\\\n",
       "x_1 \\text{ is the independent variable}\n",
       "$"
      ],
      "text/plain": [
       "<IPython.core.display.Latex object>"
      ]
     },
     "metadata": {},
     "output_type": "display_data"
    }
   ],
   "source": [
    "%%latex\n",
    "$\n",
    "y = b_0 + b_1 * x_1 \\\\\n",
    "y \\text{ is the dependent variable} \\\\\n",
    "b_0 \\text{ is the y-intercept} \\\\\n",
    "b_1 \\text{ is the coefficient for the independent variable, the slope} \\\\\n",
    "x_1 \\text{ is the independent variable}\n",
    "$"
   ]
  },
  {
   "cell_type": "markdown",
   "metadata": {},
   "source": [
    "### Evaluate the accuracy of the prediction : Ordinary Least Squares"
   ]
  },
  {
   "cell_type": "code",
   "execution_count": 2,
   "metadata": {},
   "outputs": [
    {
     "data": {
      "text/latex": [
       "The best fitting line is the one that gets the smaller Ordinary Least Squares\n",
       "\n",
       "$$\\sum_{i=0}^{m} (y_i - \\hat{y_i})^2 \\\\$$\n",
       "\n",
       "$\n",
       "m \\text{ is the number of training examples} \\\\\n",
       "\\hat{y_i} \\text{ is the }i^{th} \\text{ prediction} \\\\\n",
       "y_i \\text{ is the }i^{th} \\text{ dependent variable} \\\\\n",
       "$"
      ],
      "text/plain": [
       "<IPython.core.display.Latex object>"
      ]
     },
     "metadata": {},
     "output_type": "display_data"
    }
   ],
   "source": [
    "%%latex\n",
    "The best fitting line is the one that gets the smaller Ordinary Least Squares\n",
    "\n",
    "$$\\sum_{i=0}^{m} (y_i - \\hat{y_i})^2 \\\\$$\n",
    "\n",
    "$\n",
    "m \\text{ is the number of training examples} \\\\\n",
    "\\hat{y_i} \\text{ is the }i^{th} \\text{ prediction} \\\\\n",
    "y_i \\text{ is the }i^{th} \\text{ dependent variable} \\\\\n",
    "$"
   ]
  },
  {
   "cell_type": "markdown",
   "metadata": {},
   "source": [
    "## Import dataset"
   ]
  },
  {
   "cell_type": "code",
   "execution_count": 3,
   "metadata": {},
   "outputs": [
    {
     "data": {
      "text/html": [
       "<div>\n",
       "<style scoped>\n",
       "    .dataframe tbody tr th:only-of-type {\n",
       "        vertical-align: middle;\n",
       "    }\n",
       "\n",
       "    .dataframe tbody tr th {\n",
       "        vertical-align: top;\n",
       "    }\n",
       "\n",
       "    .dataframe thead th {\n",
       "        text-align: right;\n",
       "    }\n",
       "</style>\n",
       "<table border=\"1\" class=\"dataframe\">\n",
       "  <thead>\n",
       "    <tr style=\"text-align: right;\">\n",
       "      <th></th>\n",
       "      <th>YearsExperience</th>\n",
       "      <th>Salary</th>\n",
       "    </tr>\n",
       "  </thead>\n",
       "  <tbody>\n",
       "    <tr>\n",
       "      <th>0</th>\n",
       "      <td>1.1</td>\n",
       "      <td>39343.0</td>\n",
       "    </tr>\n",
       "    <tr>\n",
       "      <th>1</th>\n",
       "      <td>1.3</td>\n",
       "      <td>46205.0</td>\n",
       "    </tr>\n",
       "    <tr>\n",
       "      <th>2</th>\n",
       "      <td>1.5</td>\n",
       "      <td>37731.0</td>\n",
       "    </tr>\n",
       "    <tr>\n",
       "      <th>3</th>\n",
       "      <td>2.0</td>\n",
       "      <td>43525.0</td>\n",
       "    </tr>\n",
       "    <tr>\n",
       "      <th>4</th>\n",
       "      <td>2.2</td>\n",
       "      <td>39891.0</td>\n",
       "    </tr>\n",
       "  </tbody>\n",
       "</table>\n",
       "</div>"
      ],
      "text/plain": [
       "   YearsExperience   Salary\n",
       "0              1.1  39343.0\n",
       "1              1.3  46205.0\n",
       "2              1.5  37731.0\n",
       "3              2.0  43525.0\n",
       "4              2.2  39891.0"
      ]
     },
     "execution_count": 3,
     "metadata": {},
     "output_type": "execute_result"
    }
   ],
   "source": [
    "import pandas as pd\n",
    "\n",
    "dataset = pd.read_csv('salary_data.csv')\n",
    "dataset.head()"
   ]
  },
  {
   "cell_type": "code",
   "execution_count": 4,
   "metadata": {},
   "outputs": [
    {
     "data": {
      "text/plain": [
       "array([[ 1.1],\n",
       "       [ 1.3],\n",
       "       [ 1.5],\n",
       "       [ 2. ],\n",
       "       [ 2.2],\n",
       "       [ 2.9],\n",
       "       [ 3. ],\n",
       "       [ 3.2],\n",
       "       [ 3.2],\n",
       "       [ 3.7],\n",
       "       [ 3.9],\n",
       "       [ 4. ],\n",
       "       [ 4. ],\n",
       "       [ 4.1],\n",
       "       [ 4.5],\n",
       "       [ 4.9],\n",
       "       [ 5.1],\n",
       "       [ 5.3],\n",
       "       [ 5.9],\n",
       "       [ 6. ],\n",
       "       [ 6.8],\n",
       "       [ 7.1],\n",
       "       [ 7.9],\n",
       "       [ 8.2],\n",
       "       [ 8.7],\n",
       "       [ 9. ],\n",
       "       [ 9.5],\n",
       "       [ 9.6],\n",
       "       [10.3],\n",
       "       [10.5]])"
      ]
     },
     "execution_count": 4,
     "metadata": {},
     "output_type": "execute_result"
    }
   ],
   "source": [
    "x = dataset.iloc[:, :-1].values\n",
    "x"
   ]
  },
  {
   "cell_type": "code",
   "execution_count": 5,
   "metadata": {},
   "outputs": [
    {
     "data": {
      "text/plain": [
       "array([ 39343.,  46205.,  37731.,  43525.,  39891.,  56642.,  60150.,\n",
       "        54445.,  64445.,  57189.,  63218.,  55794.,  56957.,  57081.,\n",
       "        61111.,  67938.,  66029.,  83088.,  81363.,  93940.,  91738.,\n",
       "        98273., 101302., 113812., 109431., 105582., 116969., 112635.,\n",
       "       122391., 121872.])"
      ]
     },
     "execution_count": 5,
     "metadata": {},
     "output_type": "execute_result"
    }
   ],
   "source": [
    "y = dataset.iloc[:, 1].values\n",
    "y"
   ]
  },
  {
   "cell_type": "markdown",
   "metadata": {},
   "source": [
    "## Handle missing data, categorize data, apply feature scaling if applicable"
   ]
  },
  {
   "cell_type": "markdown",
   "metadata": {},
   "source": [
    "## Split the data into training set (60%), cross validation set (20%), test set (20%)"
   ]
  },
  {
   "cell_type": "code",
   "execution_count": 6,
   "metadata": {},
   "outputs": [
    {
     "name": "stdout",
     "output_type": "stream",
     "text": [
      "X_train:\n",
      "[[ 1.1]\n",
      " [ 9.5]\n",
      " [ 9.6]\n",
      " [ 4.1]\n",
      " [ 7.9]\n",
      " [ 4.5]\n",
      " [ 2.2]\n",
      " [ 1.3]\n",
      " [ 3.9]\n",
      " [10.3]\n",
      " [ 5.1]\n",
      " [ 4. ]\n",
      " [ 3.2]\n",
      " [ 3.2]\n",
      " [ 8.2]\n",
      " [ 3. ]\n",
      " [10.5]\n",
      " [ 5.9]]\n",
      "y_train:\n",
      "[ 39343. 116969. 112635.  57081. 101302.  61111.  39891.  46205.  63218.\n",
      " 122391.  66029.  56957.  54445.  64445. 113812.  60150. 121872.  81363.]\n",
      "\n",
      "X_cv:\n",
      "[[3.7]\n",
      " [4.9]\n",
      " [9. ]\n",
      " [7.1]\n",
      " [4. ]\n",
      " [6. ]]\n",
      "y_cv\n",
      "[ 57189.  67938. 105582.  98273.  55794.  93940.]\n",
      "\n",
      "X_test:\n",
      "[[5.3]\n",
      " [2. ]\n",
      " [1.5]\n",
      " [6.8]\n",
      " [8.7]\n",
      " [2.9]]\n",
      "y_test:\n",
      "[ 83088.  43525.  37731.  91738. 109431.  56642.]\n"
     ]
    }
   ],
   "source": [
    "from sklearn.model_selection import train_test_split\n",
    "X_tmp, X_test, y_tmp, y_test = train_test_split(x, y, test_size=0.2)\n",
    "X_train, X_cv, y_train, y_cv = train_test_split(X_tmp, y_tmp, test_size=0.25)\n",
    "\n",
    "print('X_train:')\n",
    "print(X_train)\n",
    "\n",
    "print('y_train:')\n",
    "print(y_train)\n",
    "\n",
    "print('\\nX_cv:')\n",
    "print(X_cv)\n",
    "\n",
    "print('y_cv')\n",
    "print(y_cv)\n",
    "\n",
    "print('\\nX_test:')\n",
    "print(X_test)\n",
    "\n",
    "print('y_test:')\n",
    "print(y_test)"
   ]
  },
  {
   "cell_type": "markdown",
   "metadata": {},
   "source": [
    "## Create and train model"
   ]
  },
  {
   "cell_type": "code",
   "execution_count": 7,
   "metadata": {},
   "outputs": [],
   "source": [
    "from sklearn.linear_model import LinearRegression\n",
    "\n",
    "# train model\n",
    "linear_regression = LinearRegression()\n",
    "linear_regression.fit(X_train, y_train)\n",
    "\n",
    "# the cross validation set is used to validate the best performing approach\n",
    "y_cv_pred = linear_regression.predict(X_cv)\n",
    "# do some adjustments before evaluating the test set\n",
    "\n",
    "# the test set is used to estimated the accuracy of the selected approach, we want to do that on unseen data\n",
    "y_test_pred = linear_regression.predict(X_test)"
   ]
  },
  {
   "cell_type": "markdown",
   "metadata": {},
   "source": [
    "## Plot the predictions of the model"
   ]
  },
  {
   "cell_type": "markdown",
   "metadata": {},
   "source": [
    "### Plot training, cross validation, test set\n",
    "Red dots are real values from the data.\n",
    "Blue line is the prediction.\n"
   ]
  },
  {
   "cell_type": "code",
   "execution_count": 8,
   "metadata": {
    "scrolled": true
   },
   "outputs": [
    {
     "data": {
      "text/plain": [
       "Text(0,0.5,'Salary')"
      ]
     },
     "execution_count": 8,
     "metadata": {},
     "output_type": "execute_result"
    },
    {
     "data": {
      "image/png": "[encoded data removed]",
      "text/plain": [
       "<Figure size 432x288 with 1 Axes>"
      ]
     },
     "metadata": {},
     "output_type": "display_data"
    }
   ],
   "source": [
    "%matplotlib inline\n",
    "import matplotlib.pyplot as plt_train\n",
    "\n",
    "plt_train.scatter(X_train, y_train, color='red')\n",
    "\n",
    "# we want the prediction of the training set and not the test set\n",
    "plt_train.plot(X_train, linear_regression.predict(X_train), color='blue')\n",
    "\n",
    "plt_train.title('Salary vs Experience (Training set)')\n",
    "plt_train.xlabel('Years of experience')\n",
    "plt_train.ylabel('Salary')"
   ]
  },
  {
   "cell_type": "markdown",
   "metadata": {},
   "source": [
    "### Plot cross validation set"
   ]
  },
  {
   "cell_type": "code",
   "execution_count": 9,
   "metadata": {},
   "outputs": [
    {
     "data": {
      "text/plain": [
       "Text(0,0.5,'Salary')"
      ]
     },
     "execution_count": 9,
     "metadata": {},
     "output_type": "execute_result"
    },
    {
     "data": {
      "image/png": "[encoded data removed]",
      "text/plain": [
       "<Figure size 432x288 with 1 Axes>"
      ]
     },
     "metadata": {},
     "output_type": "display_data"
    }
   ],
   "source": [
    "%matplotlib inline\n",
    "import matplotlib.pyplot as plt_cv\n",
    "\n",
    "plt_cv.scatter(X_cv, y_cv, color='red')\n",
    "\n",
    "# we must reuse the unique linear regression we created with the training set, we do not want to create another one\n",
    "# with the cross validation set nor the test set\n",
    "plt_train.plot(X_train, linear_regression.predict(X_train), color='blue')\n",
    "plt_cv.title('Salary vs Experience (Cross validation set)')\n",
    "plt_cv.xlabel('Years of experience')\n",
    "plt_cv.ylabel('Salary')"
   ]
  },
  {
   "cell_type": "markdown",
   "metadata": {},
   "source": [
    "### Plot test set"
   ]
  },
  {
   "cell_type": "code",
   "execution_count": 10,
   "metadata": {},
   "outputs": [
    {
     "data": {
      "image/png": "[encoded data removed]",
      "text/plain": [
       "<Figure size 432x288 with 1 Axes>"
      ]
     },
     "metadata": {},
     "output_type": "display_data"
    }
   ],
   "source": [
    "%matplotlib inline\n",
    "import matplotlib.pyplot as plt_test\n",
    "\n",
    "plt_test.scatter(X_test, y_test, color='red')\n",
    "plt_train.plot(X_train, linear_regression.predict(X_train), color='blue')\n",
    "plt_test.title('Salary vs Experience (Test set)')\n",
    "plt_test.xlabel('Years of experience')\n",
    "plt_test.ylabel('Salary')\n",
    "plt_test.show()"
   ]
  }
 ],
 "metadata": {
  "kernelspec": {
   "display_name": "Python 3",
   "language": "python",
   "name": "python3"
  },
  "language_info": {
   "codemirror_mode": {
    "name": "ipython",
    "version": 3
   },
   "file_extension": ".py",
   "mimetype": "text/x-python",
   "name": "python",
   "nbconvert_exporter": "python",
   "pygments_lexer": "ipython3",
   "version": "3.8.2"
  },
  "toc": {
   "base_numbering": 1,
   "nav_menu": {},
   "number_sections": true,
   "sideBar": true,
   "skip_h1_title": false,
   "title_cell": "Table of Contents",
   "title_sidebar": "Contents",
   "toc_cell": false,
   "toc_position": {},
   "toc_section_display": true,
   "toc_window_display": false
  },
  "varInspector": {
   "cols": {
    "lenName": 16,
    "lenType": 16,
    "lenVar": 40
   },
   "kernels_config": {
    "python": {
     "delete_cmd_postfix": "",
     "delete_cmd_prefix": "del ",
     "library": "var_list.py",
     "varRefreshCmd": "print(var_dic_list())"
    },
    "r": {
     "delete_cmd_postfix": ") ",
     "delete_cmd_prefix": "rm(",
     "library": "var_list.r",
     "varRefreshCmd": "cat(var_dic_list()) "
    }
   },
   "types_to_exclude": [
    "module",
    "function",
    "builtin_function_or_method",
    "instance",
    "_Feature"
   ],
   "window_display": false
  }
 },
 "nbformat": 4,
 "nbformat_minor": 2
}
