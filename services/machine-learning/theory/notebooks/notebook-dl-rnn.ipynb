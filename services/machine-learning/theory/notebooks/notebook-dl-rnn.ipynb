{
 "cells": [
  {
   "cell_type": "markdown",
   "metadata": {},
   "source": [
    "# Supervised deep learning - Python - recurrent neural network"
   ]
  },
  {
   "cell_type": "code",
   "execution_count": 1,
   "metadata": {},
   "outputs": [
    {
     "name": "stdout",
     "output_type": "stream",
     "text": [
      "Num GPUs Available:  1\n"
     ]
    }
   ],
   "source": [
    "import tensorflow as tf\n",
    "print(\"Num GPUs Available: \", len(tf.config.experimental.list_physical_devices('GPU')))"
   ]
  },
  {
   "cell_type": "code",
   "execution_count": 2,
   "metadata": {},
   "outputs": [
    {
     "data": {
      "text/html": [
       "<div>\n",
       "<style scoped>\n",
       "    .dataframe tbody tr th:only-of-type {\n",
       "        vertical-align: middle;\n",
       "    }\n",
       "\n",
       "    .dataframe tbody tr th {\n",
       "        vertical-align: top;\n",
       "    }\n",
       "\n",
       "    .dataframe thead th {\n",
       "        text-align: right;\n",
       "    }\n",
       "</style>\n",
       "<table border=\"1\" class=\"dataframe\">\n",
       "  <thead>\n",
       "    <tr style=\"text-align: right;\">\n",
       "      <th></th>\n",
       "      <th>Date</th>\n",
       "      <th>Open</th>\n",
       "      <th>High</th>\n",
       "      <th>Low</th>\n",
       "      <th>Close</th>\n",
       "      <th>Volume</th>\n",
       "    </tr>\n",
       "  </thead>\n",
       "  <tbody>\n",
       "    <tr>\n",
       "      <th>0</th>\n",
       "      <td>1/3/2012</td>\n",
       "      <td>325.25</td>\n",
       "      <td>332.83</td>\n",
       "      <td>324.97</td>\n",
       "      <td>663.59</td>\n",
       "      <td>7,380,500</td>\n",
       "    </tr>\n",
       "    <tr>\n",
       "      <th>1</th>\n",
       "      <td>1/4/2012</td>\n",
       "      <td>331.27</td>\n",
       "      <td>333.87</td>\n",
       "      <td>329.08</td>\n",
       "      <td>666.45</td>\n",
       "      <td>5,749,400</td>\n",
       "    </tr>\n",
       "    <tr>\n",
       "      <th>2</th>\n",
       "      <td>1/5/2012</td>\n",
       "      <td>329.83</td>\n",
       "      <td>330.75</td>\n",
       "      <td>326.89</td>\n",
       "      <td>657.21</td>\n",
       "      <td>6,590,300</td>\n",
       "    </tr>\n",
       "    <tr>\n",
       "      <th>3</th>\n",
       "      <td>1/6/2012</td>\n",
       "      <td>328.34</td>\n",
       "      <td>328.77</td>\n",
       "      <td>323.68</td>\n",
       "      <td>648.24</td>\n",
       "      <td>5,405,900</td>\n",
       "    </tr>\n",
       "    <tr>\n",
       "      <th>4</th>\n",
       "      <td>1/9/2012</td>\n",
       "      <td>322.04</td>\n",
       "      <td>322.29</td>\n",
       "      <td>309.46</td>\n",
       "      <td>620.76</td>\n",
       "      <td>11,688,800</td>\n",
       "    </tr>\n",
       "  </tbody>\n",
       "</table>\n",
       "</div>"
      ],
      "text/plain": [
       "       Date    Open    High     Low   Close      Volume\n",
       "0  1/3/2012  325.25  332.83  324.97  663.59   7,380,500\n",
       "1  1/4/2012  331.27  333.87  329.08  666.45   5,749,400\n",
       "2  1/5/2012  329.83  330.75  326.89  657.21   6,590,300\n",
       "3  1/6/2012  328.34  328.77  323.68  648.24   5,405,900\n",
       "4  1/9/2012  322.04  322.29  309.46  620.76  11,688,800"
      ]
     },
     "execution_count": 2,
     "metadata": {},
     "output_type": "execute_result"
    }
   ],
   "source": [
    "import pandas as pd\n",
    "\n",
    "dataset_train = pd.read_csv('data/google_stock_price_train.csv')\n",
    "dataset_train.head()"
   ]
  },
  {
   "cell_type": "code",
   "execution_count": 3,
   "metadata": {},
   "outputs": [
    {
     "data": {
      "text/plain": [
       "array([[325.25],\n",
       "       [331.27],\n",
       "       [329.83],\n",
       "       [328.34],\n",
       "       [322.04]])"
      ]
     },
     "execution_count": 3,
     "metadata": {},
     "output_type": "execute_result"
    }
   ],
   "source": [
    "# only use the stock price at openings\n",
    "training_set = dataset_train.iloc[:, 1:2].values\n",
    "training_set[:5, :]"
   ]
  },
  {
   "cell_type": "code",
   "execution_count": 4,
   "metadata": {},
   "outputs": [
    {
     "data": {
      "text/plain": [
       "array([[0.08581368],\n",
       "       [0.09701243],\n",
       "       [0.09433366],\n",
       "       [0.09156187],\n",
       "       [0.07984225]])"
      ]
     },
     "execution_count": 4,
     "metadata": {},
     "output_type": "execute_result"
    }
   ],
   "source": [
    "# Feature Scaling (standardisation or normalisation)\n",
    "from sklearn.preprocessing import MinMaxScaler\n",
    "\n",
    "# use MinMaxScaler (normalisation) because RNN with sigmoid function as activation function of output layer -> normalisation\n",
    "sc = MinMaxScaler(feature_range = (0, 1)) # all values will be between 0 and 1\n",
    "training_set_scaled = sc.fit_transform(training_set)\n",
    "training_set_scaled[:5, :]"
   ]
  },
  {
   "cell_type": "code",
   "execution_count": 5,
   "metadata": {},
   "outputs": [],
   "source": [
    "import numpy as np\n",
    "\n",
    "# Creating a data structure with 60 timesteps and 1 output\n",
    "# 60 timesteps are the 60 past time before t that the RNN will learn from to predict output\n",
    "# We use 60 based on experimentation\n",
    "\n",
    "# will contain the previous 60 days of trading price => list of lists of size 60\n",
    "X_train = []\n",
    "\n",
    "# will  contain the trading price of the next day\n",
    "y_train = []\n",
    "for i in range(60, 1258):\n",
    "    X_train.append(training_set_scaled[i-60:i, 0])\n",
    "    y_train.append(training_set_scaled[i, 0])"
   ]
  },
  {
   "cell_type": "code",
   "execution_count": 6,
   "metadata": {},
   "outputs": [
    {
     "data": {
      "text/plain": [
       "(1198, 60)"
      ]
     },
     "execution_count": 6,
     "metadata": {},
     "output_type": "execute_result"
    }
   ],
   "source": [
    "import numpy as np\n",
    "\n",
    "# create matrix of size 1198x60\n",
    "X_train = np.array(X_train)\n",
    "X_train.shape"
   ]
  },
  {
   "cell_type": "code",
   "execution_count": 7,
   "metadata": {},
   "outputs": [
    {
     "data": {
      "text/plain": [
       "(1198,)"
      ]
     },
     "execution_count": 7,
     "metadata": {},
     "output_type": "execute_result"
    }
   ],
   "source": [
    "import numpy as np\n",
    "\n",
    "# create matrix of size 1198x1\n",
    "y_train = np.array(y_train)\n",
    "y_train.shape"
   ]
  },
  {
   "cell_type": "code",
   "execution_count": 8,
   "metadata": {},
   "outputs": [
    {
     "data": {
      "text/plain": [
       "(1198, 60, 1)"
      ]
     },
     "execution_count": 8,
     "metadata": {},
     "output_type": "execute_result"
    }
   ],
   "source": [
    "import numpy as np\n",
    "\n",
    "# Reshaping -> add more dimensionality (predictors, indicators) using reshape from numpy to add dimension\n",
    "X_train = np.reshape(X_train, (X_train.shape[0], X_train.shape[1], 1))\n",
    "\n",
    "# the new dimension can contain indicators which are allegedly related -> better for the RNN to train\n",
    "# size 1198x60x1 -> needed for keras (rercurrent layers)\n",
    "X_train.shape"
   ]
  },
  {
   "cell_type": "code",
   "execution_count": 9,
   "metadata": {},
   "outputs": [],
   "source": [
    "from tensorflow import keras\n",
    "from tensorflow.keras.models import Sequential\n",
    "from tensorflow.keras.layers import Dense, LSTM, Dropout\n",
    "\n",
    "# Initialising the RNN\n",
    "regressor = Sequential()\n",
    "\n",
    "# Adding the first LSTM layer and some Dropout regularisation\n",
    "# return_sequences is True because stacked LSTM and when we have multiple LSTM layer, we need it to be true (default is false)\n",
    "# input_shape only needs the timesteps and indicators because first one (observations) will automatically be taken into account\n",
    "# units : 50 neurons in the LSTM layer because we need high dimensionality -> better results\n",
    "regressor.add(LSTM(units = 50, return_sequences = True, input_shape = (X_train.shape[1], 1)))\n",
    "\n",
    "# need to figure out the right value for our model, should be between 20% and 50% (rule of thumb)\n",
    "regressor.add(Dropout(0.2))\n",
    "\n",
    "# Adding a second LSTM layer and some Dropout regularisation\n",
    "# no need to specify the input_shape since our network already knows\n",
    "regressor.add(LSTM(units = 50, return_sequences = True))\n",
    "regressor.add(Dropout(0.2))\n",
    "\n",
    "# Adding a third LSTM layer and some Dropout regularisation\n",
    "regressor.add(LSTM(units = 50, return_sequences = True))\n",
    "regressor.add(Dropout(0.2))\n",
    "\n",
    "# Adding a fourth LSTM layer and some Dropout regularisation\n",
    "# last LSTM layer doesn't need to set return_sequences to false since it is the default value\n",
    "regressor.add(LSTM(units = 50))\n",
    "regressor.add(Dropout(0.2))\n",
    "\n",
    "# Adding the output layer\n",
    "regressor.add(Dense(units = 1))"
   ]
  },
  {
   "cell_type": "code",
   "execution_count": 10,
   "metadata": {},
   "outputs": [],
   "source": [
    "# Compiling the RNN using the mean_squared_error for the loss function because we are doing regression\n",
    "# rmsprop is also a good optimize for RNN\n",
    "regressor.compile(optimizer = 'adam', loss = 'mean_squared_error')"
   ]
  },
  {
   "cell_type": "code",
   "execution_count": 11,
   "metadata": {},
   "outputs": [
    {
     "name": "stdout",
     "output_type": "stream",
     "text": [
      "Epoch 1/100\n",
      "38/38 [==============================] - 0s 12ms/step - loss: 0.0436\n",
      "Epoch 2/100\n",
      "38/38 [==============================] - 0s 13ms/step - loss: 0.0066\n",
      "Epoch 3/100\n",
      "38/38 [==============================] - 0s 13ms/step - loss: 0.0053\n",
      "Epoch 4/100\n",
      "38/38 [==============================] - 0s 12ms/step - loss: 0.0051\n",
      "Epoch 5/100\n",
      "38/38 [==============================] - 0s 13ms/step - loss: 0.0046\n",
      "Epoch 6/100\n",
      "38/38 [==============================] - 0s 13ms/step - loss: 0.0049\n",
      "Epoch 7/100\n",
      "38/38 [==============================] - 0s 13ms/step - loss: 0.0046\n",
      "Epoch 8/100\n",
      "38/38 [==============================] - 0s 12ms/step - loss: 0.0050\n",
      "Epoch 9/100\n",
      "38/38 [==============================] - 0s 11ms/step - loss: 0.0045\n",
      "Epoch 10/100\n",
      "38/38 [==============================] - 1s 13ms/step - loss: 0.0039\n",
      "Epoch 11/100\n",
      "38/38 [==============================] - 1s 13ms/step - loss: 0.0043\n",
      "Epoch 12/100\n",
      "38/38 [==============================] - 0s 13ms/step - loss: 0.0041\n",
      "Epoch 13/100\n",
      "38/38 [==============================] - 0s 13ms/step - loss: 0.0037\n",
      "Epoch 14/100\n",
      "38/38 [==============================] - 0s 13ms/step - loss: 0.0041\n",
      "Epoch 15/100\n",
      "38/38 [==============================] - 0s 13ms/step - loss: 0.0035\n",
      "Epoch 16/100\n",
      "38/38 [==============================] - 0s 12ms/step - loss: 0.0042\n",
      "Epoch 17/100\n",
      "38/38 [==============================] - 0s 13ms/step - loss: 0.0037\n",
      "Epoch 18/100\n",
      "38/38 [==============================] - 0s 11ms/step - loss: 0.0041\n",
      "Epoch 19/100\n",
      "38/38 [==============================] - 0s 11ms/step - loss: 0.0037\n",
      "Epoch 20/100\n",
      "38/38 [==============================] - 1s 13ms/step - loss: 0.0035\n",
      "Epoch 21/100\n",
      "38/38 [==============================] - 0s 13ms/step - loss: 0.0031\n",
      "Epoch 22/100\n",
      "38/38 [==============================] - 0s 13ms/step - loss: 0.0036\n",
      "Epoch 23/100\n",
      "38/38 [==============================] - 1s 13ms/step - loss: 0.0033\n",
      "Epoch 24/100\n",
      "38/38 [==============================] - 0s 13ms/step - loss: 0.0032\n",
      "Epoch 25/100\n",
      "38/38 [==============================] - 0s 13ms/step - loss: 0.0032\n",
      "Epoch 26/100\n",
      "38/38 [==============================] - 0s 13ms/step - loss: 0.0030\n",
      "Epoch 27/100\n",
      "38/38 [==============================] - 1s 14ms/step - loss: 0.0032\n",
      "Epoch 28/100\n",
      "38/38 [==============================] - 1s 13ms/step - loss: 0.0033\n",
      "Epoch 29/100\n",
      "38/38 [==============================] - 0s 12ms/step - loss: 0.0032\n",
      "Epoch 30/100\n",
      "38/38 [==============================] - 0s 12ms/step - loss: 0.0027\n",
      "Epoch 31/100\n",
      "38/38 [==============================] - 0s 11ms/step - loss: 0.0033\n",
      "Epoch 32/100\n",
      "38/38 [==============================] - 0s 13ms/step - loss: 0.0026\n",
      "Epoch 33/100\n",
      "38/38 [==============================] - 0s 13ms/step - loss: 0.0029\n",
      "Epoch 34/100\n",
      "38/38 [==============================] - 0s 13ms/step - loss: 0.0027\n",
      "Epoch 35/100\n",
      "38/38 [==============================] - 0s 13ms/step - loss: 0.0029\n",
      "Epoch 36/100\n",
      "38/38 [==============================] - 0s 13ms/step - loss: 0.0030\n",
      "Epoch 37/100\n",
      "38/38 [==============================] - 0s 10ms/step - loss: 0.0029\n",
      "Epoch 38/100\n",
      "38/38 [==============================] - 0s 10ms/step - loss: 0.0026\n",
      "Epoch 39/100\n",
      "38/38 [==============================] - 0s 11ms/step - loss: 0.0026\n",
      "Epoch 40/100\n",
      "38/38 [==============================] - 0s 11ms/step - loss: 0.0035\n",
      "Epoch 41/100\n",
      "38/38 [==============================] - 0s 10ms/step - loss: 0.0025\n",
      "Epoch 42/100\n",
      "38/38 [==============================] - 0s 11ms/step - loss: 0.0026\n",
      "Epoch 43/100\n",
      "38/38 [==============================] - 0s 11ms/step - loss: 0.0028\n",
      "Epoch 44/100\n",
      "38/38 [==============================] - 0s 11ms/step - loss: 0.0029\n",
      "Epoch 45/100\n",
      "38/38 [==============================] - 0s 11ms/step - loss: 0.0025\n",
      "Epoch 46/100\n",
      "38/38 [==============================] - 0s 10ms/step - loss: 0.0026\n",
      "Epoch 47/100\n",
      "38/38 [==============================] - 0s 11ms/step - loss: 0.0026\n",
      "Epoch 48/100\n",
      "38/38 [==============================] - 0s 13ms/step - loss: 0.0026\n",
      "Epoch 49/100\n",
      "38/38 [==============================] - 0s 11ms/step - loss: 0.0023\n",
      "Epoch 50/100\n",
      "38/38 [==============================] - 0s 12ms/step - loss: 0.0026\n",
      "Epoch 51/100\n",
      "38/38 [==============================] - 0s 12ms/step - loss: 0.0023\n",
      "Epoch 52/100\n",
      "38/38 [==============================] - 1s 13ms/step - loss: 0.0024\n",
      "Epoch 53/100\n",
      "38/38 [==============================] - 0s 13ms/step - loss: 0.0022\n",
      "Epoch 54/100\n",
      "38/38 [==============================] - 0s 13ms/step - loss: 0.0025\n",
      "Epoch 55/100\n",
      "38/38 [==============================] - 0s 13ms/step - loss: 0.0024\n",
      "Epoch 56/100\n",
      "38/38 [==============================] - 0s 13ms/step - loss: 0.0023\n",
      "Epoch 57/100\n",
      "38/38 [==============================] - 0s 12ms/step - loss: 0.0020\n",
      "Epoch 58/100\n",
      "38/38 [==============================] - 0s 12ms/step - loss: 0.0021\n",
      "Epoch 59/100\n",
      "38/38 [==============================] - 0s 11ms/step - loss: 0.0020\n",
      "Epoch 60/100\n",
      "38/38 [==============================] - 0s 11ms/step - loss: 0.0020\n",
      "Epoch 61/100\n",
      "38/38 [==============================] - 0s 11ms/step - loss: 0.0023\n",
      "Epoch 62/100\n",
      "38/38 [==============================] - 0s 12ms/step - loss: 0.0021\n",
      "Epoch 63/100\n",
      "38/38 [==============================] - 0s 13ms/step - loss: 0.0020\n",
      "Epoch 64/100\n",
      "38/38 [==============================] - 0s 13ms/step - loss: 0.0020\n",
      "Epoch 65/100\n",
      "38/38 [==============================] - 0s 12ms/step - loss: 0.0020\n",
      "Epoch 66/100\n",
      "38/38 [==============================] - 0s 11ms/step - loss: 0.0019\n",
      "Epoch 67/100\n",
      "38/38 [==============================] - 0s 12ms/step - loss: 0.0017\n",
      "Epoch 68/100\n",
      "38/38 [==============================] - 0s 12ms/step - loss: 0.0018\n",
      "Epoch 69/100\n",
      "38/38 [==============================] - 0s 13ms/step - loss: 0.0018\n",
      "Epoch 70/100\n",
      "38/38 [==============================] - 0s 13ms/step - loss: 0.0018\n",
      "Epoch 71/100\n",
      "38/38 [==============================] - 0s 13ms/step - loss: 0.0018\n",
      "Epoch 72/100\n",
      "38/38 [==============================] - 0s 13ms/step - loss: 0.0021\n",
      "Epoch 73/100\n",
      "38/38 [==============================] - 0s 13ms/step - loss: 0.0019\n",
      "Epoch 74/100\n",
      "38/38 [==============================] - 0s 13ms/step - loss: 0.0019\n",
      "Epoch 75/100\n",
      "38/38 [==============================] - 0s 13ms/step - loss: 0.0021\n",
      "Epoch 76/100\n",
      "38/38 [==============================] - 0s 12ms/step - loss: 0.0020\n",
      "Epoch 77/100\n",
      "38/38 [==============================] - 0s 10ms/step - loss: 0.0021\n",
      "Epoch 78/100\n",
      "38/38 [==============================] - 0s 10ms/step - loss: 0.0016\n",
      "Epoch 79/100\n",
      "38/38 [==============================] - 0s 11ms/step - loss: 0.0017\n",
      "Epoch 80/100\n",
      "38/38 [==============================] - 0s 11ms/step - loss: 0.0017\n",
      "Epoch 81/100\n",
      "38/38 [==============================] - 0s 11ms/step - loss: 0.0022\n",
      "Epoch 82/100\n",
      "38/38 [==============================] - 0s 11ms/step - loss: 0.0019\n",
      "Epoch 83/100\n",
      "38/38 [==============================] - 0s 12ms/step - loss: 0.0016\n",
      "Epoch 84/100\n",
      "38/38 [==============================] - 0s 11ms/step - loss: 0.0017\n",
      "Epoch 85/100\n",
      "38/38 [==============================] - 0s 13ms/step - loss: 0.0017\n",
      "Epoch 86/100\n",
      "38/38 [==============================] - 0s 12ms/step - loss: 0.0015\n",
      "Epoch 87/100\n",
      "38/38 [==============================] - 0s 10ms/step - loss: 0.0017\n",
      "Epoch 88/100\n",
      "38/38 [==============================] - 0s 11ms/step - loss: 0.0015\n",
      "Epoch 89/100\n",
      "38/38 [==============================] - 0s 10ms/step - loss: 0.0016\n",
      "Epoch 90/100\n",
      "38/38 [==============================] - 0s 10ms/step - loss: 0.0016\n",
      "Epoch 91/100\n",
      "38/38 [==============================] - 0s 12ms/step - loss: 0.0018\n",
      "Epoch 92/100\n",
      "38/38 [==============================] - 0s 12ms/step - loss: 0.0015\n",
      "Epoch 93/100\n",
      "38/38 [==============================] - 0s 13ms/step - loss: 0.0015\n",
      "Epoch 94/100\n",
      "38/38 [==============================] - 0s 11ms/step - loss: 0.0016\n",
      "Epoch 95/100\n",
      "38/38 [==============================] - 0s 12ms/step - loss: 0.0014\n",
      "Epoch 96/100\n",
      "38/38 [==============================] - 0s 11ms/step - loss: 0.0015\n",
      "Epoch 97/100\n",
      "38/38 [==============================] - 0s 12ms/step - loss: 0.0015\n",
      "Epoch 98/100\n",
      "38/38 [==============================] - 0s 10ms/step - loss: 0.0016\n",
      "Epoch 99/100\n",
      "38/38 [==============================] - 0s 12ms/step - loss: 0.0016\n",
      "Epoch 100/100\n",
      "38/38 [==============================] - 0s 13ms/step - loss: 0.0013\n"
     ]
    }
   ],
   "source": [
    "# Fitting the RNN to the Training set\n",
    "with tf.device('/device:GPU:0'):\n",
    "    regressor.fit(X_train, y_train, epochs = 100, batch_size = 32)"
   ]
  },
  {
   "cell_type": "code",
   "execution_count": 12,
   "metadata": {},
   "outputs": [
    {
     "data": {
      "text/plain": [
       "array([[778.81],\n",
       "       [788.36],\n",
       "       [786.08],\n",
       "       [795.26],\n",
       "       [806.4 ]])"
      ]
     },
     "execution_count": 12,
     "metadata": {},
     "output_type": "execute_result"
    }
   ],
   "source": [
    "# Getting the real stock price of 2017\n",
    "dataset_test = pd.read_csv('data/google_stock_price_test.csv')\n",
    "real_stock_price = dataset_test.iloc[:, 1:2].values\n",
    "real_stock_price[:5]"
   ]
  },
  {
   "cell_type": "code",
   "execution_count": 13,
   "metadata": {},
   "outputs": [
    {
     "data": {
      "text/plain": [
       "(80,)"
      ]
     },
     "execution_count": 13,
     "metadata": {},
     "output_type": "execute_result"
    }
   ],
   "source": [
    "# Getting the predicted stock price of 2017\n",
    "\n",
    "# create a dataset with all open price from train and test (axis = 0 for lines (vertical axis))\n",
    "dataset_total = pd.concat((dataset_train['Open'], dataset_test['Open']), axis = 0)\n",
    "\n",
    "# 60 business days means 3 months with stock prices\n",
    "# len(dataset_total) - len(dataset_test) (-> january 3rd) - 60 => get 3 months before january 3rd 2017\n",
    "inputs = dataset_total[len(dataset_total) - len(dataset_test) - 60:].values\n",
    "inputs.shape"
   ]
  },
  {
   "cell_type": "code",
   "execution_count": 14,
   "metadata": {},
   "outputs": [
    {
     "data": {
      "text/plain": [
       "(80, 1)"
      ]
     },
     "execution_count": 14,
     "metadata": {},
     "output_type": "execute_result"
    }
   ],
   "source": [
    "# get the right numpy shape (lines and not column)\n",
    "inputs = inputs.reshape(-1,1)\n",
    "inputs.shape"
   ]
  },
  {
   "cell_type": "code",
   "execution_count": 15,
   "metadata": {},
   "outputs": [
    {
     "data": {
      "text/plain": [
       "(20, 60)"
      ]
     },
     "execution_count": 15,
     "metadata": {},
     "output_type": "execute_result"
    }
   ],
   "source": [
    "# apply the same feature scaling than before\n",
    "inputs = sc.transform(inputs)\n",
    "\n",
    "# range is 60 -> 80 because we only have business days and not full weeks (20 business days per month)\n",
    "X_test = []\n",
    "for i in range(60, 80):\n",
    "    X_test.append(inputs[i-60:i, 0])\n",
    "X_test = np.array(X_test)\n",
    "X_test.shape"
   ]
  },
  {
   "cell_type": "code",
   "execution_count": 16,
   "metadata": {},
   "outputs": [
    {
     "data": {
      "text/plain": [
       "(20, 60, 1)"
      ]
     },
     "execution_count": 16,
     "metadata": {},
     "output_type": "execute_result"
    }
   ],
   "source": [
    "# create AxBx1 matrix\n",
    "X_test = np.reshape(X_test, (X_test.shape[0], X_test.shape[1], 1))\n",
    "X_test.shape"
   ]
  },
  {
   "cell_type": "code",
   "execution_count": 17,
   "metadata": {},
   "outputs": [
    {
     "data": {
      "text/plain": [
       "array([[0.9461398 ],\n",
       "       [0.9411148 ],\n",
       "       [0.9415514 ],\n",
       "       [0.94393736],\n",
       "       [0.9499136 ],\n",
       "       [0.96055084],\n",
       "       [0.9702085 ],\n",
       "       [0.9740777 ],\n",
       "       [0.9746991 ],\n",
       "       [0.9742861 ],\n",
       "       [0.9738706 ],\n",
       "       [0.9734735 ],\n",
       "       [0.97329646],\n",
       "       [0.9744667 ],\n",
       "       [0.9763979 ],\n",
       "       [0.9850329 ],\n",
       "       [0.9977059 ],\n",
       "       [1.011204  ],\n",
       "       [1.0184225 ],\n",
       "       [1.0107727 ]], dtype=float32)"
      ]
     },
     "execution_count": 17,
     "metadata": {},
     "output_type": "execute_result"
    }
   ],
   "source": [
    "predicted_stock_price = regressor.predict(X_test)\n",
    "predicted_stock_price"
   ]
  },
  {
   "cell_type": "code",
   "execution_count": 18,
   "metadata": {},
   "outputs": [
    {
     "data": {
      "text/plain": [
       "array([[787.72687],\n",
       "       [785.02563],\n",
       "       [785.2604 ],\n",
       "       [786.54297],\n",
       "       [789.75555],\n",
       "       [795.4737 ],\n",
       "       [800.6653 ],\n",
       "       [802.7452 ],\n",
       "       [803.0792 ],\n",
       "       [802.8572 ],\n",
       "       [802.63385],\n",
       "       [802.4204 ],\n",
       "       [802.32526],\n",
       "       [802.9543 ],\n",
       "       [803.99243],\n",
       "       [808.6343 ],\n",
       "       [815.4468 ],\n",
       "       [822.7028 ],\n",
       "       [826.5832 ],\n",
       "       [822.47095]], dtype=float32)"
      ]
     },
     "execution_count": 18,
     "metadata": {},
     "output_type": "execute_result"
    }
   ],
   "source": [
    "# inverse feature scaling\n",
    "predicted_stock_price = sc.inverse_transform(predicted_stock_price)\n",
    "predicted_stock_price"
   ]
  },
  {
   "cell_type": "code",
   "execution_count": 19,
   "metadata": {},
   "outputs": [
    {
     "data": {
      "image/png": "[encoded data removed]",
      "text/plain": [
       "<Figure size 432x288 with 1 Axes>"
      ]
     },
     "metadata": {
      "needs_background": "light"
     },
     "output_type": "display_data"
    }
   ],
   "source": [
    "%matplotlib inline\n",
    "\n",
    "import matplotlib.pyplot as plt\n",
    "\n",
    "# Visualising the results\n",
    "plt.plot(real_stock_price, color = 'red', label = 'Real Google Stock Price')\n",
    "plt.plot(predicted_stock_price, color = 'blue', label = 'Predicted Google Stock Price')\n",
    "plt.title('Google Stock Price Prediction')\n",
    "plt.xlabel('Time')\n",
    "plt.ylabel('Google Stock Price')\n",
    "plt.legend()\n",
    "plt.show()\n",
    "\n",
    "# model reacts well with smooth changes but cannot predict the spikes since it is not possible to predict that kind of event \n",
    "# with only stock prices. In theory, it is possible to use other information like news media and NLP to do it"
   ]
  },
  {
   "cell_type": "markdown",
   "metadata": {},
   "source": [
    "## Evaluating the RNN\n",
    "\n",
    "For Regression, the way to evaluate the model performance is with a metric called RMSE (Root Mean Squared Error). It is calculated as the root of the mean of the squared differences between the predictions and the real values.\n",
    "\n",
    "For this problem, we want the directions taken by our predictions (mean squared error) and not the closeness of their values to the real stock price.\n",
    "\n",
    "To calculate RMSE :\n",
    "\n",
    "```python\n",
    "import math\n",
    "from sklearn.metrics import mean_squared_error\n",
    "rmse = math.sqrt(mean_squared_error(real_stock_price, predicted_stock_price))\n",
    "```\n",
    "\n",
    "To get the relative error as opposed to the absolute error, it is needed to divde this result by the range of the stock price of January 2017 (around 800) => a RMSE of 50 is a very big error if the stock price values ranged around 100 and small if values ranged around 10000."
   ]
  },
  {
   "cell_type": "markdown",
   "metadata": {},
   "source": [
    "## Improving the RNN\n",
    "\n",
    "1. Get more training data\n",
    "2. Try to increase timesteps (now is 60 timesteps so 3 months, we can try 120 timesteps for 6 months)\n",
    "3. Try more LSTM layers\n",
    "4. Try more neurones in the LSTM layers"
   ]
  },
  {
   "cell_type": "markdown",
   "metadata": {},
   "source": [
    "## Tuning the RNN\n",
    "\n",
    "It is possible to use GridSearchCV for hyperparameters tuning but we need to use 'neg_mean_squared_error' instead of 'accuracy' for the scoring."
   ]
  }
 ],
 "metadata": {
  "kernelspec": {
   "display_name": "venv",
   "language": "python",
   "name": "venv"
  },
  "language_info": {
   "codemirror_mode": {
    "name": "ipython",
    "version": 3
   },
   "file_extension": ".py",
   "mimetype": "text/x-python",
   "name": "python",
   "nbconvert_exporter": "python",
   "pygments_lexer": "ipython3",
   "version": "3.8.2"
  },
  "toc": {
   "base_numbering": 1,
   "nav_menu": {},
   "number_sections": true,
   "sideBar": true,
   "skip_h1_title": false,
   "title_cell": "Table of Contents",
   "title_sidebar": "Contents",
   "toc_cell": false,
   "toc_position": {},
   "toc_section_display": true,
   "toc_window_display": false
  },
  "varInspector": {
   "cols": {
    "lenName": 16,
    "lenType": 16,
    "lenVar": 40
   },
   "kernels_config": {
    "python": {
     "delete_cmd_postfix": "",
     "delete_cmd_prefix": "del ",
     "library": "var_list.py",
     "varRefreshCmd": "print(var_dic_list())"
    },
    "r": {
     "delete_cmd_postfix": ") ",
     "delete_cmd_prefix": "rm(",
     "library": "var_list.r",
     "varRefreshCmd": "cat(var_dic_list()) "
    }
   },
   "types_to_exclude": [
    "module",
    "function",
    "builtin_function_or_method",
    "instance",
    "_Feature"
   ],
   "window_display": false
  },
  "widgets": {
   "application/vnd.jupyter.widget-state+json": {
    "state": {},
    "version_major": 2,
    "version_minor": 0
   }
  }
 },
 "nbformat": 4,
 "nbformat_minor": 2
}
